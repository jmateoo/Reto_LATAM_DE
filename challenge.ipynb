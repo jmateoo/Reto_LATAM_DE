{
 "cells": [
  {
   "cell_type": "markdown",
   "metadata": {},
   "source": [
    "RETO LATAM - Mateo Aristizabal\n",
    "\n",
    "Este reto se trato de optimizar funciones en cuanto a memoria y tiempo de ejecucion\n",
    "\n",
    "Fue proporcionado un archivo tipo json con informacion de tweets, se desarrolla localmente en un notebook y se usara las librerias propuestas en el README.md oara evaluar los aspectos de memoria y tiempo de ejecucion, es un total de 6 ejercicios. Ademas se subira a un repositorio Github con las buenas practicas del Gitflow y sera portable, ya que se puede desplegar en cualquier nube sin nungun problema. Todos los archivos mencionados se encuentran en la carpeta src, la version de python trabajada fue la 3.9 y un requirements.txt para saber las versiones de las librerias que se uso."
   ]
  },
  {
   "cell_type": "code",
   "execution_count": 1,
   "metadata": {},
   "outputs": [],
   "source": [
    "file_path = \"/Users/josemateoaristizabaldiaz/downloads/farmers-protest-tweets-2021-2-4.json\""
   ]
  },
  {
   "cell_type": "markdown",
   "metadata": {},
   "source": [
    "Se define la variable donde se encuentra el JSON en nuestro ambiente local."
   ]
  },
  {
   "cell_type": "code",
   "execution_count": 2,
   "metadata": {},
   "outputs": [],
   "source": [
    "from src import q1_memory, q1_time, q2_memory, q2_time, q3_memory, q3_time"
   ]
  },
  {
   "cell_type": "markdown",
   "metadata": {},
   "source": [
    "Se importan los archivos que estan dentro de la carpeta src para llamar las funciones y evaluarlas solamente."
   ]
  },
  {
   "cell_type": "code",
   "execution_count": 3,
   "metadata": {},
   "outputs": [],
   "source": [
    "%load_ext memory_profiler"
   ]
  },
  {
   "cell_type": "code",
   "execution_count": 4,
   "metadata": {},
   "outputs": [
    {
     "data": {
      "text/plain": [
       "[(datetime.date(2021, 2, 12), 'RanbirS00614606'),\n",
       " (datetime.date(2021, 2, 13), 'MaanDee08215437'),\n",
       " (datetime.date(2021, 2, 17), 'rebelpacifist'),\n",
       " (datetime.date(2021, 2, 16), 'jot__b'),\n",
       " (datetime.date(2021, 2, 14), 'jot__b'),\n",
       " (datetime.date(2021, 2, 18), 'RaaJVinderkaur'),\n",
       " (datetime.date(2021, 2, 15), 'neetuanjle_nitu'),\n",
       " (datetime.date(2021, 2, 20), 'Preetm91'),\n",
       " (datetime.date(2021, 2, 23), 'MangalJ23056160'),\n",
       " (datetime.date(2021, 2, 19), 'Surrypuria')]"
      ]
     },
     "execution_count": 4,
     "metadata": {},
     "output_type": "execute_result"
    }
   ],
   "source": [
    "q1_time.q1_time(file_path)"
   ]
  },
  {
   "cell_type": "markdown",
   "metadata": {},
   "source": [
    "Llamar la funcion, regresa lo esperado segun el ejemplo proporcionado."
   ]
  },
  {
   "cell_type": "code",
   "execution_count": 15,
   "metadata": {},
   "outputs": [
    {
     "data": {
      "text/plain": [
       "[(datetime.date(2021, 2, 12), 'RanbirS00614606'),\n",
       " (datetime.date(2021, 2, 13), 'MaanDee08215437'),\n",
       " (datetime.date(2021, 2, 17), 'rebelpacifist'),\n",
       " (datetime.date(2021, 2, 16), 'jot__b'),\n",
       " (datetime.date(2021, 2, 14), 'jot__b'),\n",
       " (datetime.date(2021, 2, 18), 'RaaJVinderkaur'),\n",
       " (datetime.date(2021, 2, 15), 'neetuanjle_nitu'),\n",
       " (datetime.date(2021, 2, 20), 'Preetm91'),\n",
       " (datetime.date(2021, 2, 23), 'MangalJ23056160'),\n",
       " (datetime.date(2021, 2, 19), 'Surrypuria')]"
      ]
     },
     "execution_count": 15,
     "metadata": {},
     "output_type": "execute_result"
    }
   ],
   "source": [
    "q1_memory.q1_memory(file_path)"
   ]
  },
  {
   "cell_type": "code",
   "execution_count": 6,
   "metadata": {},
   "outputs": [
    {
     "name": "stdout",
     "output_type": "stream",
     "text": [
      "2.67 s ± 45.4 ms per loop (mean ± std. dev. of 7 runs, 1 loop each)\n"
     ]
    }
   ],
   "source": [
    "%timeit q1_time.q1_time(file_path)"
   ]
  },
  {
   "cell_type": "code",
   "execution_count": 19,
   "metadata": {},
   "outputs": [
    {
     "name": "stdout",
     "output_type": "stream",
     "text": [
      "peak memory: 1380.73 MiB, increment: 965.25 MiB\n"
     ]
    }
   ],
   "source": [
    "%memit q1_time.q1_time(file_path)"
   ]
  },
  {
   "cell_type": "code",
   "execution_count": 20,
   "metadata": {},
   "outputs": [
    {
     "name": "stdout",
     "output_type": "stream",
     "text": [
      "3.06 s ± 6.26 ms per loop (mean ± std. dev. of 7 runs, 1 loop each)\n"
     ]
    }
   ],
   "source": [
    "%timeit q1_memory.q1_memory(file_path)"
   ]
  },
  {
   "cell_type": "code",
   "execution_count": 21,
   "metadata": {},
   "outputs": [
    {
     "name": "stdout",
     "output_type": "stream",
     "text": [
      "peak memory: 516.44 MiB, increment: 0.06 MiB\n"
     ]
    }
   ],
   "source": [
    "%memit q1_memory.q1_memory(file_path)"
   ]
  },
  {
   "cell_type": "code",
   "execution_count": 38,
   "metadata": {},
   "outputs": [
    {
     "data": {
      "text/plain": [
       "[('🙏', 5049),\n",
       " ('😂', 3072),\n",
       " ('🚜', 2972),\n",
       " ('🌾', 2182),\n",
       " ('🇮🇳', 2086),\n",
       " ('🤣', 1668),\n",
       " ('✊', 1651),\n",
       " ('❤️', 1382),\n",
       " ('🙏🏻', 1317),\n",
       " ('💚', 1040)]"
      ]
     },
     "execution_count": 38,
     "metadata": {},
     "output_type": "execute_result"
    }
   ],
   "source": [
    "q2_time.q2_time(file_path)"
   ]
  },
  {
   "cell_type": "code",
   "execution_count": 39,
   "metadata": {},
   "outputs": [
    {
     "data": {
      "text/plain": [
       "[('🙏', 5049),\n",
       " ('😂', 3072),\n",
       " ('🚜', 2972),\n",
       " ('🌾', 2182),\n",
       " ('🇮🇳', 2086),\n",
       " ('🤣', 1668),\n",
       " ('✊', 1651),\n",
       " ('❤️', 1382),\n",
       " ('🙏🏻', 1317),\n",
       " ('💚', 1040)]"
      ]
     },
     "execution_count": 39,
     "metadata": {},
     "output_type": "execute_result"
    }
   ],
   "source": [
    "q2_memory.q2_memory(file_path)"
   ]
  },
  {
   "cell_type": "code",
   "execution_count": 17,
   "metadata": {},
   "outputs": [
    {
     "name": "stdout",
     "output_type": "stream",
     "text": [
      "9.49 s ± 51.2 ms per loop (mean ± std. dev. of 7 runs, 1 loop each)\n"
     ]
    }
   ],
   "source": [
    "%timeit q2_time.q2_time(file_path)"
   ]
  },
  {
   "cell_type": "code",
   "execution_count": 22,
   "metadata": {},
   "outputs": [
    {
     "name": "stdout",
     "output_type": "stream",
     "text": [
      "peak memory: 470.30 MiB, increment: 2.91 MiB\n"
     ]
    }
   ],
   "source": [
    "%memit q2_time.q2_time(file_path)"
   ]
  },
  {
   "cell_type": "code",
   "execution_count": 23,
   "metadata": {},
   "outputs": [
    {
     "name": "stdout",
     "output_type": "stream",
     "text": [
      "9.61 s ± 30.8 ms per loop (mean ± std. dev. of 7 runs, 1 loop each)\n"
     ]
    }
   ],
   "source": [
    "%timeit q2_memory.q2_memory(file_path)"
   ]
  },
  {
   "cell_type": "code",
   "execution_count": 24,
   "metadata": {},
   "outputs": [
    {
     "name": "stdout",
     "output_type": "stream",
     "text": [
      "peak memory: 470.28 MiB, increment: 0.02 MiB\n"
     ]
    }
   ],
   "source": [
    "%memit q2_memory.q2_memory(file_path)"
   ]
  },
  {
   "cell_type": "code",
   "execution_count": 25,
   "metadata": {},
   "outputs": [
    {
     "data": {
      "text/plain": [
       "[('narendramodi', 2261),\n",
       " ('Kisanektamorcha', 1836),\n",
       " ('RakeshTikaitBKU', 1639),\n",
       " ('PMOIndia', 1422),\n",
       " ('RahulGandhi', 1125),\n",
       " ('GretaThunberg', 1046),\n",
       " ('RaviSinghKA', 1015),\n",
       " ('rihanna', 972),\n",
       " ('UNHumanRights', 962),\n",
       " ('meenaharris', 925)]"
      ]
     },
     "execution_count": 25,
     "metadata": {},
     "output_type": "execute_result"
    }
   ],
   "source": [
    "q3_time.q3_time(file_path)"
   ]
  },
  {
   "cell_type": "code",
   "execution_count": 26,
   "metadata": {},
   "outputs": [
    {
     "data": {
      "text/plain": [
       "[('narendramodi', 2261),\n",
       " ('Kisanektamorcha', 1836),\n",
       " ('RakeshTikaitBKU', 1639),\n",
       " ('PMOIndia', 1422),\n",
       " ('RahulGandhi', 1125),\n",
       " ('GretaThunberg', 1046),\n",
       " ('RaviSinghKA', 1015),\n",
       " ('rihanna', 972),\n",
       " ('UNHumanRights', 962),\n",
       " ('meenaharris', 925)]"
      ]
     },
     "execution_count": 26,
     "metadata": {},
     "output_type": "execute_result"
    }
   ],
   "source": [
    "q3_memory.q3_memory(file_path)"
   ]
  },
  {
   "cell_type": "code",
   "execution_count": 27,
   "metadata": {},
   "outputs": [
    {
     "name": "stdout",
     "output_type": "stream",
     "text": [
      "2.32 s ± 2.96 ms per loop (mean ± std. dev. of 7 runs, 1 loop each)\n"
     ]
    }
   ],
   "source": [
    "%timeit q3_time.q3_time(file_path)"
   ]
  },
  {
   "cell_type": "code",
   "execution_count": 28,
   "metadata": {},
   "outputs": [
    {
     "name": "stdout",
     "output_type": "stream",
     "text": [
      "peak memory: 470.45 MiB, increment: 0.00 MiB\n"
     ]
    }
   ],
   "source": [
    "%memit q3_time.q3_time(file_path)"
   ]
  },
  {
   "cell_type": "code",
   "execution_count": 29,
   "metadata": {},
   "outputs": [
    {
     "name": "stdout",
     "output_type": "stream",
     "text": [
      "2.39 s ± 21.2 ms per loop (mean ± std. dev. of 7 runs, 1 loop each)\n"
     ]
    }
   ],
   "source": [
    "%timeit q3_memory.q3_memory(file_path)"
   ]
  },
  {
   "cell_type": "code",
   "execution_count": 30,
   "metadata": {},
   "outputs": [
    {
     "name": "stdout",
     "output_type": "stream",
     "text": [
      "peak memory: 471.12 MiB, increment: 0.52 MiB\n"
     ]
    }
   ],
   "source": [
    "%memit q3_memory.q3_memory(file_path)"
   ]
  },
  {
   "cell_type": "markdown",
   "metadata": {},
   "source": [
    "Diferencias entre ejecuciones:\n",
    "\n",
    "| Function | Time | Peak Memory | Memory Increment |\n",
    "|----------|------|-------------|------------------|\n",
    "| q1_memory | 2.67 s ± 45.4 ms per loop (mean ± std. dev. of 7 runs, 1 loop each) | 1380.73 MiB | 965.25 MiB |\n",
    "| q1_time | 3.06 s ± 6.26 ms per loop (mean ± std. dev. of 7 runs, 1 loop each) | 2520.23 MiB | 2051.48 MiB |\n",
    "| q2_memory | 9.61 s ± 30.8 ms per loop (mean ± std. dev. of 7 runs, 1 loop each) | 470.28 MiB | 0.02 MiB |\n",
    "| q2_time | 9.49 s ± 51.2 ms per loop (mean ± std. dev. of 7 runs, 1 loop each) | 470.30 MiB | 2.91 MiB |\n",
    "| q3_memory | 2.39 s ± 21.2 ms per loop (mean ± std. dev. of 7 runs, 1 loop each) | 471.12 MiB | 0.52 MiB |\n",
    "| q3_time | 2.32 s ± 2.96 ms per loop (mean ± std. dev. of 7 runs, 1 loop each) | 470.45 MiB | 0.00 MiB |\n",
    "\n",
    "Analisis:\n"
   ]
  }
 ],
 "metadata": {
  "kernelspec": {
   "display_name": "pred_mall_plaza",
   "language": "python",
   "name": "python3"
  },
  "language_info": {
   "codemirror_mode": {
    "name": "ipython",
    "version": 3
   },
   "file_extension": ".py",
   "mimetype": "text/x-python",
   "name": "python",
   "nbconvert_exporter": "python",
   "pygments_lexer": "ipython3",
   "version": "3.9.18"
  },
  "orig_nbformat": 4
 },
 "nbformat": 4,
 "nbformat_minor": 2
}
